{
 "cells": [
  {
   "cell_type": "markdown",
   "metadata": {
    "colab_type": "text",
    "id": "view-in-github"
   },
   "source": [
    "<a href=\"https://colab.research.google.com/github/harshjha0304/lncRNA/blob/main/working_MTP.ipynb\" target=\"_parent\"><img src=\"https://colab.research.google.com/assets/colab-badge.svg\" alt=\"Open In Colab\"/></a>"
   ]
  },
  {
   "cell_type": "markdown",
   "metadata": {},
   "source": [
    "# conda env update --file environment.yml "
   ]
  },
  {
   "cell_type": "code",
   "execution_count": 1,
   "metadata": {
    "colab": {
     "base_uri": "https://localhost:8080/"
    },
    "id": "mW888Ess8p1V",
    "outputId": "19711a67-470a-4a49-8609-8b5378237bd4"
   },
   "outputs": [
    {
     "name": "stdout",
     "output_type": "stream",
     "text": [
      "CUDA is available. Using device: cuda:0\n"
     ]
    }
   ],
   "source": [
    "import torch\n",
    "if torch.cuda.is_available():\n",
    "   device = torch.device('cuda:0')\n",
    "   print('CUDA is available. Using device:', device)\n",
    "else:\n",
    "      device = torch.device('cpu')\n",
    "      print('CUDA is not available. Using CPU.')"
   ]
  },
  {
   "cell_type": "code",
   "execution_count": 2,
   "metadata": {},
   "outputs": [
    {
     "data": {
      "text/plain": [
       "'1.10.1'"
      ]
     },
     "execution_count": 2,
     "metadata": {},
     "output_type": "execute_result"
    }
   ],
   "source": [
    "import torch\n",
    "torch.__version__"
   ]
  },
  {
   "cell_type": "code",
   "execution_count": 3,
   "metadata": {
    "colab": {
     "base_uri": "https://localhost:8080/"
    },
    "id": "1y6tH68Y9BM2",
    "outputId": "60d3f3c5-4d2f-4fb4-d3ec-58762ae4ec26"
   },
   "outputs": [
    {
     "name": "stdout",
     "output_type": "stream",
     "text": [
      "Requirement already satisfied: torch-geometric in c:\\users\\harsh\\anaconda3\\envs\\last\\lib\\site-packages (2.0.4)\n",
      "Requirement already satisfied: tqdm in c:\\users\\harsh\\anaconda3\\envs\\last\\lib\\site-packages (from torch-geometric) (4.62.3)\n",
      "Requirement already satisfied: numpy in c:\\users\\harsh\\anaconda3\\envs\\last\\lib\\site-packages (from torch-geometric) (1.21.2)\n",
      "Requirement already satisfied: scipy in c:\\users\\harsh\\anaconda3\\envs\\last\\lib\\site-packages (from torch-geometric) (1.7.1)\n",
      "Requirement already satisfied: pandas in c:\\users\\harsh\\anaconda3\\envs\\last\\lib\\site-packages (from torch-geometric) (1.3.4)\n",
      "Requirement already satisfied: jinja2 in c:\\users\\harsh\\anaconda3\\envs\\last\\lib\\site-packages (from torch-geometric) (3.1.4)\n",
      "Requirement already satisfied: requests in c:\\users\\harsh\\anaconda3\\envs\\last\\lib\\site-packages (from torch-geometric) (2.32.2)\n",
      "Requirement already satisfied: pyparsing in c:\\users\\harsh\\anaconda3\\envs\\last\\lib\\site-packages (from torch-geometric) (3.1.4)\n",
      "Requirement already satisfied: scikit-learn in c:\\users\\harsh\\anaconda3\\envs\\last\\lib\\site-packages (from torch-geometric) (1.0.1)\n",
      "Requirement already satisfied: MarkupSafe>=2.0 in c:\\users\\harsh\\anaconda3\\envs\\last\\lib\\site-packages (from jinja2->torch-geometric) (2.1.1)\n",
      "Requirement already satisfied: python-dateutil>=2.7.3 in c:\\users\\harsh\\anaconda3\\envs\\last\\lib\\site-packages (from pandas->torch-geometric) (2.9.0)\n",
      "Requirement already satisfied: pytz>=2017.3 in c:\\users\\harsh\\anaconda3\\envs\\last\\lib\\site-packages (from pandas->torch-geometric) (2024.2)\n",
      "Requirement already satisfied: charset-normalizer<4,>=2 in c:\\users\\harsh\\anaconda3\\envs\\last\\lib\\site-packages (from requests->torch-geometric) (3.4.0)\n",
      "Requirement already satisfied: idna<4,>=2.5 in c:\\users\\harsh\\anaconda3\\envs\\last\\lib\\site-packages (from requests->torch-geometric) (3.10)\n",
      "Requirement already satisfied: urllib3<3,>=1.21.1 in c:\\users\\harsh\\anaconda3\\envs\\last\\lib\\site-packages (from requests->torch-geometric) (2.2.1)\n",
      "Requirement already satisfied: certifi>=2017.4.17 in c:\\users\\harsh\\anaconda3\\envs\\last\\lib\\site-packages (from requests->torch-geometric) (2024.8.30)\n",
      "Requirement already satisfied: joblib>=0.11 in c:\\users\\harsh\\anaconda3\\envs\\last\\lib\\site-packages (from scikit-learn->torch-geometric) (1.3.2)\n",
      "Requirement already satisfied: threadpoolctl>=2.0.0 in c:\\users\\harsh\\anaconda3\\envs\\last\\lib\\site-packages (from scikit-learn->torch-geometric) (3.1.0)\n",
      "Requirement already satisfied: colorama in c:\\users\\harsh\\anaconda3\\envs\\last\\lib\\site-packages (from tqdm->torch-geometric) (0.4.6)\n",
      "Requirement already satisfied: six>=1.5 in c:\\users\\harsh\\anaconda3\\envs\\last\\lib\\site-packages (from python-dateutil>=2.7.3->pandas->torch-geometric) (1.16.0)\n"
     ]
    }
   ],
   "source": [
    "!pip install torch-geometric\n"
   ]
  },
  {
   "cell_type": "code",
   "execution_count": 4,
   "metadata": {},
   "outputs": [
    {
     "name": "stdout",
     "output_type": "stream",
     "text": [
      "Requirement already satisfied: torch_scatter in c:\\users\\harsh\\anaconda3\\envs\\last\\lib\\site-packages (2.0.9)\n",
      "Note: you may need to restart the kernel to use updated packages.\n"
     ]
    }
   ],
   "source": [
    "%pip install torch_scatter\n"
   ]
  },
  {
   "cell_type": "code",
   "execution_count": 5,
   "metadata": {},
   "outputs": [
    {
     "name": "stdout",
     "output_type": "stream",
     "text": [
      "Requirement already satisfied: torch-sparse in c:\\users\\harsh\\anaconda3\\envs\\last\\lib\\site-packages (0.6.13)\n",
      "Requirement already satisfied: scipy in c:\\users\\harsh\\anaconda3\\envs\\last\\lib\\site-packages (from torch-sparse) (1.7.1)\n",
      "Requirement already satisfied: numpy<1.23.0,>=1.16.5 in c:\\users\\harsh\\anaconda3\\envs\\last\\lib\\site-packages (from scipy->torch-sparse) (1.21.2)\n"
     ]
    }
   ],
   "source": [
    "!pip install torch-sparse"
   ]
  },
  {
   "cell_type": "markdown",
   "metadata": {
    "id": "niROkNxF9EBm"
   },
   "source": [
    "**GITHUB CLONING**"
   ]
  },
  {
   "cell_type": "code",
   "execution_count": 6,
   "metadata": {
    "id": "4StsIjxI9IH3"
   },
   "outputs": [
    {
     "name": "stderr",
     "output_type": "stream",
     "text": [
      "'rm' is not recognized as an internal or external command,\n",
      "operable program or batch file.\n"
     ]
    }
   ],
   "source": [
    "!rm -rf /content/lncRNA"
   ]
  },
  {
   "cell_type": "code",
   "execution_count": 7,
   "metadata": {
    "colab": {
     "base_uri": "https://localhost:8080/"
    },
    "id": "AcF8WRKJ9JJg",
    "outputId": "ec68318b-b4c3-432f-af3d-204d1330d52d"
   },
   "outputs": [
    {
     "name": "stderr",
     "output_type": "stream",
     "text": [
      "Cloning into 'lncRNA'...\n"
     ]
    }
   ],
   "source": [
    "! git clone https://github.com/harshjha0304/lncRNA.git"
   ]
  },
  {
   "cell_type": "markdown",
   "metadata": {
    "id": "MbhWre3P9MVe"
   },
   "source": [
    "### **CODE**"
   ]
  },
  {
   "cell_type": "code",
   "execution_count": 8,
   "metadata": {},
   "outputs": [
    {
     "data": {
      "text/plain": [
       "'1.21.2'"
      ]
     },
     "execution_count": 8,
     "metadata": {},
     "output_type": "execute_result"
    }
   ],
   "source": [
    "import numpy as np\n",
    "np.__version__"
   ]
  },
  {
   "cell_type": "code",
   "execution_count": 11,
   "metadata": {
    "colab": {
     "base_uri": "https://localhost:8080/",
     "height": 674
    },
    "id": "xNFgj-JC9ul-",
    "outputId": "bd8e4097-19b5-4ff0-94a5-f53846bdb760"
   },
   "outputs": [],
   "source": [
    "import time\n",
    "import numpy as np\n",
    "import torch\n",
    "import pandas as pd\n",
    "import matplotlib.pyplot as plt\n",
    "\n",
    "import argparse\n",
    "\n",
    "from torch.utils.data import DataLoader\n",
    "from torch_geometric.data import Data\n",
    "from sklearn.metrics import roc_auc_score, average_precision_score, accuracy_score, precision_score, recall_score, \\\n",
    "    f1_score, roc_curve, auc, precision_recall_curve\n",
    "from torch_sparse import SparseTensor\n",
    "from gcn import GCN_mgaev3 as GCN\n",
    "from mgaev import SAGE_mgaev2 as SAGE\n",
    "from gin import GIN_mgaev2 as GIN\n",
    "from LPdecoder import LPDecoder\n",
    "from build import VariationalGraphAutoEncoder\n",
    "from utils import do_edge_split_direct, edgemask_um\n",
    "from torch_geometric.utils import to_undirected, add_self_loops, negative_sampling\n",
    "\n",
    "\n"
   ]
  },
  {
   "cell_type": "code",
   "execution_count": 12,
   "metadata": {},
   "outputs": [],
   "source": [
    "def draw_auc(y, pred):\n",
    "    fpr, tpr, _ = roc_curve(y, pred)\n",
    "    roc_auc = auc(fpr, tpr)\n",
    "    plt.plot(fpr, tpr, label='AUC = %0.4f' % roc_auc)\n",
    "    plt.xlabel('False Positive Rate', fontsize=16)\n",
    "    plt.ylabel('True Positive Rate', fontsize=16)\n",
    "    plt.title('MNDR', fontsize=18)\n",
    "    plt.legend(loc=\"lower right\")\n",
    "    plt.grid(True)\n",
    "    plt.xticks(fontsize=14)\n",
    "    plt.yticks(fontsize=14)"
   ]
  },
  {
   "cell_type": "code",
   "execution_count": 13,
   "metadata": {},
   "outputs": [],
   "source": [
    "def draw_aupr(y, pred):\n",
    "    average_precision = average_precision_score(y, pred)\n",
    "    precision, recall, _ = precision_recall_curve(y, pred)\n",
    "    plt.plot(recall, precision, label='AUPR = %0.4f' % average_precision)\n",
    "    plt.xlabel('Recall', fontsize=16)\n",
    "    plt.ylabel('Precision', fontsize=16)\n",
    "    plt.title('MNDR', fontsize=18)\n",
    "    plt.legend(loc='lower right')\n",
    "    plt.grid(True)\n",
    "    plt.xticks(fontsize=14)\n",
    "    plt.yticks(fontsize=14)"
   ]
  },
  {
   "cell_type": "code",
   "execution_count": 14,
   "metadata": {},
   "outputs": [],
   "source": [
    "def tensor_to_numpy(tensor):\n",
    "    # Converts PyTorch tensors to numpy arrays for metric computation\n",
    "    return tensor.detach().cpu().numpy()"
   ]
  },
  {
   "cell_type": "code",
   "execution_count": 15,
   "metadata": {},
   "outputs": [],
   "source": [
    "def evaluate_auc(train_pred, train_true, val_pred, val_true, test_pred, test_true, draw, threshold=0.85):\n",
    "    # Convert tensors to numpy arrays for sklearn metrics\n",
    "    train_pred_np = tensor_to_numpy(train_pred)\n",
    "    val_pred_np = tensor_to_numpy(val_pred)\n",
    "    test_pred_np = tensor_to_numpy(test_pred)\n",
    "    train_true_np = tensor_to_numpy(train_true)\n",
    "    val_true_np = tensor_to_numpy(val_true)\n",
    "    test_true_np = tensor_to_numpy(test_true)\n",
    "\n",
    "    # AUC\n",
    "    train_auc = roc_auc_score(train_true_np, train_pred_np)\n",
    "    valid_auc = roc_auc_score(val_true_np, val_pred_np)\n",
    "    test_auc = roc_auc_score(test_true_np, test_pred_np)\n",
    "    if draw:\n",
    "        # draw_auc(test_true_np, test_pred_np)\n",
    "        draw_aupr(test_true_np, test_pred_np)\n",
    "\n",
    "    # Average Precision\n",
    "    train_ap = average_precision_score(train_true_np, train_pred_np)\n",
    "    valid_ap = average_precision_score(val_true_np, val_pred_np)\n",
    "    test_ap = average_precision_score(test_true_np, test_pred_np)\n",
    "\n",
    "    # Convert probabilities to binary predictions based on the threshold\n",
    "    train_pred_binary = (train_pred > threshold).int()\n",
    "    val_pred_binary = (val_pred > threshold).int()\n",
    "    test_pred_binary = (test_pred > threshold).int()\n",
    "\n",
    "    # Convert binary predictions to numpy for sklearn metrics\n",
    "    train_pred_binary_np = tensor_to_numpy(train_pred_binary)\n",
    "    val_pred_binary_np = tensor_to_numpy(val_pred_binary)\n",
    "    test_pred_binary_np = tensor_to_numpy(test_pred_binary)\n",
    "\n",
    "    # Accuracy\n",
    "    train_accuracy = accuracy_score(train_true_np, train_pred_binary_np)\n",
    "    valid_accuracy = accuracy_score(val_true_np, val_pred_binary_np)\n",
    "    test_accuracy = accuracy_score(test_true_np, test_pred_binary_np)\n",
    "\n",
    "    # Precision, Recall, and F1 Score (handling cases where there are no positive labels)\n",
    "    train_precision = precision_score(train_true_np, train_pred_binary_np, zero_division=0)\n",
    "    valid_precision = precision_score(val_true_np, val_pred_binary_np, zero_division=0)\n",
    "    test_precision = precision_score(test_true_np, test_pred_binary_np, zero_division=0)\n",
    "\n",
    "    train_recall = recall_score(train_true_np, train_pred_binary_np, zero_division=0)\n",
    "    valid_recall = recall_score(val_true_np, val_pred_binary_np, zero_division=0)\n",
    "    test_recall = recall_score(test_true_np, test_pred_binary_np, zero_division=0)\n",
    "\n",
    "    train_f1 = f1_score(train_true_np, train_pred_binary_np, zero_division=0)\n",
    "    valid_f1 = f1_score(val_true_np, val_pred_binary_np, zero_division=0)\n",
    "    test_f1 = f1_score(test_true_np, test_pred_binary_np, zero_division=0)\n",
    "\n",
    "    # Compile results\n",
    "    results = {\n",
    "        'AUC': (train_auc, valid_auc, test_auc),\n",
    "        'AP': (train_ap, valid_ap, test_ap),\n",
    "        'Accuracy': (train_accuracy, valid_accuracy, test_accuracy),\n",
    "        'Precision': (train_precision, valid_precision, test_precision),\n",
    "        'Recall': (train_recall, valid_recall, test_recall),\n",
    "        'F1': (train_f1, valid_f1, test_f1)\n",
    "    }\n",
    "\n",
    "    return results"
   ]
  },
  {
   "cell_type": "code",
   "execution_count": 16,
   "metadata": {},
   "outputs": [],
   "source": [
    "def train(model, predictor, data, split_edge, optimizer, args):\n",
    "    model.train()\n",
    "    predictor.train()\n",
    "\n",
    "    adj, edge_index, edge_index_mask = edgemask_um(args.mask_ratio, split_edge, data.x.device, data.num_nodes)\n",
    "    pre_edge_index = adj.to(data.x.device)\n",
    "    pos_train_edge = edge_index_mask\n",
    "\n",
    "    optimizer.zero_grad()\n",
    "    h = model(data.x, pre_edge_index)\n",
    "    edge = pos_train_edge\n",
    "    pos_out = predictor(h, edge)\n",
    "    pos_loss = -torch.log(pos_out + 1e-15).mean()\n",
    "\n",
    "    new_edge_index, _ = add_self_loops(edge_index.cpu())\n",
    "    edge = negative_sampling(\n",
    "        new_edge_index, num_nodes=data.num_nodes,\n",
    "        num_neg_samples=pos_train_edge.shape[1])\n",
    "\n",
    "    edge = edge.to(data.x.device)\n",
    "\n",
    "    neg_out = predictor(h, edge)\n",
    "    neg_loss = -torch.log(1 - neg_out + 1e-15).mean()\n",
    "\n",
    "    loss = pos_loss + neg_loss\n",
    "    loss.backward()\n",
    "\n",
    "    torch.nn.utils.clip_grad_norm_(model.parameters(), 1.0)\n",
    "    torch.nn.utils.clip_grad_norm_(predictor.parameters(), 1.0)\n",
    "\n",
    "    optimizer.step()\n",
    "\n",
    "    return loss.item()"
   ]
  },
  {
   "cell_type": "code",
   "execution_count": 19,
   "metadata": {},
   "outputs": [],
   "source": [
    "@torch.no_grad()\n",
    "def test(model, predictor, data, adj, split_edge, batch_size, draw=False):\n",
    "    model.eval()\n",
    "    h = model(data.x, adj)\n",
    "\n",
    "    pos_train_edge = split_edge['train']['edge'].to(data.x.device)\n",
    "    neg_train_edge = split_edge['train']['edge_neg'].to(data.x.device)\n",
    "    pos_valid_edge = split_edge['valid']['edge'].to(data.x.device)\n",
    "    neg_valid_edge = split_edge['valid']['edge_neg'].to(data.x.device)\n",
    "    pos_test_edge = split_edge['test']['edge'].to(data.x.device)\n",
    "    neg_test_edge = split_edge['test']['edge_neg'].to(data.x.device)\n",
    "\n",
    "    pos_train_preds = []\n",
    "    for perm in DataLoader(range(pos_train_edge.size(0)), batch_size):\n",
    "        edge = pos_train_edge[perm].t()\n",
    "        pos_train_preds += [predictor(h, edge).squeeze().cpu()]\n",
    "    pos_train_pred = torch.cat(pos_train_preds, dim=0)\n",
    "\n",
    "    pos_valid_preds = []\n",
    "    for perm in DataLoader(range(pos_valid_edge.size(0)), batch_size):\n",
    "        edge = pos_valid_edge[perm].t()\n",
    "        pos_valid_preds += [predictor(h, edge).squeeze().cpu()]\n",
    "    pos_valid_pred = torch.cat(pos_valid_preds, dim=0)\n",
    "\n",
    "    neg_train_preds = []\n",
    "    for perm in DataLoader(range(neg_train_edge.size(0)), batch_size):\n",
    "        edge = neg_train_edge[perm].t()\n",
    "        neg_train_preds += [predictor(h, edge).squeeze().cpu()]\n",
    "    neg_train_pred = torch.cat(neg_train_preds, dim=0)\n",
    "\n",
    "    neg_valid_preds = []\n",
    "    for perm in DataLoader(range(neg_valid_edge.size(0)), batch_size):\n",
    "        edge = neg_valid_edge[perm].t()\n",
    "        neg_valid_preds += [predictor(h, edge).squeeze().cpu()]\n",
    "    neg_valid_pred = torch.cat(neg_valid_preds, dim=0)\n",
    "\n",
    "    pos_test_preds = []\n",
    "    for perm in DataLoader(range(pos_test_edge.size(0)), batch_size):\n",
    "        edge = pos_test_edge[perm].t()\n",
    "        pos_test_preds += [predictor(h, edge).squeeze().cpu()]\n",
    "    pos_test_pred = torch.cat(pos_test_preds, dim=0)\n",
    "\n",
    "    neg_test_preds = []\n",
    "    for perm in DataLoader(range(neg_test_edge.size(0)), batch_size):\n",
    "        edge = neg_test_edge[perm].t()\n",
    "        neg_test_preds += [predictor(h, edge).squeeze().cpu()]\n",
    "    neg_test_pred = torch.cat(neg_test_preds, dim=0)\n",
    "\n",
    "    train_pred = torch.cat([pos_train_pred, neg_train_pred], dim=0)\n",
    "    train_true = torch.cat([torch.ones_like(pos_train_pred), torch.zeros_like(neg_train_pred)], dim=0)\n",
    "\n",
    "    val_pred = torch.cat([pos_valid_pred, neg_valid_pred], dim=0)\n",
    "    val_true = torch.cat([torch.ones_like(pos_valid_pred), torch.zeros_like(neg_valid_pred)], dim=0)\n",
    "\n",
    "    test_pred = torch.cat([pos_test_pred, neg_test_pred], dim=0)\n",
    "    test_true = torch.cat([torch.ones_like(pos_test_pred), torch.zeros_like(neg_test_pred)], dim=0)\n",
    "\n",
    "    results = evaluate_auc(train_pred, train_true, val_pred, val_true, test_pred, test_true, draw)\n",
    "    return results\n"
   ]
  },
  {
   "cell_type": "code",
   "execution_count": 20,
   "metadata": {},
   "outputs": [
    {
     "name": "stdout",
     "output_type": "stream",
     "text": [
      "Namespace(batch_size=64, dataset='data2', de_v='v1', decode_channels=512, decode_layers=2, dropout=0.5, epochs=200, eval_steps=1, hidden_channels=128, lr=0.01, mask_ratio=0.2, num_layers=4, patience=50, runs=5, seed=42, use_sage='GCN', use_valedges_as_input=False)\n"
     ]
    },
    {
     "name": "stderr",
     "output_type": "stream",
     "text": [
      "c:\\Users\\harsh\\anaconda3\\envs\\last\\lib\\site-packages\\ipykernel_launcher.py:51: UserWarning: Creating a tensor from a list of numpy.ndarrays is extremely slow. Please consider converting the list to a single numpy.ndarray with numpy.array() before converting to a tensor. (Triggered internally at  ..\\torch\\csrc\\utils\\tensor_new.cpp:201.)\n"
     ]
    },
    {
     "name": "stdout",
     "output_type": "stream",
     "text": [
      "Start training with mask ratio=0.2 # optimization edges=244 / 1224\n",
      "{'AUC': (0.9900292088512964, 0.9840365493147003, 0.9828863208814833), 'AP': (0.9866813589061852, 0.985285588891243, 0.9841439725643717), 'Accuracy': (0.9248366013071896, 0.9311475409836065, 0.9262295081967213), 'Precision': (0.9779411764705882, 0.9614035087719298, 0.9577464788732394), 'Recall': (0.869281045751634, 0.898360655737705, 0.8918032786885246), 'F1': (0.9204152249134947, 0.9288135593220339, 0.9235993208828521)}\n",
      "{'AUC': (0.9901206533811782, 0.9805858640150497, 0.9800376242945446), 'AP': (0.9865243713258223, 0.9776460083849898, 0.9791965562939391), 'Accuracy': (0.9366830065359477, 0.9311475409836065, 0.9245901639344263), 'Precision': (0.9768064228367529, 0.9646643109540636, 0.9608540925266904), 'Recall': (0.8946078431372549, 0.8950819672131147, 0.8852459016393442), 'F1': (0.9339019189765458, 0.9285714285714285, 0.9215017064846417)}\n",
      "{'AUC': (0.990956336238199, 0.9835743079817254, 0.9831550658425154), 'AP': (0.989460227656606, 0.9843281784530077, 0.9840541489265501), 'Accuracy': (0.9056372549019608, 0.9049180327868852, 0.898360655737705), 'Precision': (0.9872423945044161, 0.9768339768339769, 0.9727626459143969), 'Recall': (0.8218954248366013, 0.8295081967213115, 0.819672131147541), 'F1': (0.8970129291127953, 0.8971631205673759, 0.889679715302491)}\n",
      "{'AUC': (0.9894842128027683, 0.9821875839828004, 0.9834238108035475), 'AP': (0.98591257847937, 0.9831825139195979, 0.9844648899017723), 'Accuracy': (0.9240196078431373, 0.9262295081967213, 0.9295081967213115), 'Precision': (0.9735401459854015, 0.9577464788732394, 0.9612676056338029), 'Recall': (0.8717320261437909, 0.8918032786885246, 0.8950819672131147), 'F1': (0.9198275862068966, 0.9235993208828521, 0.9269949066213922)}\n",
      "{'AUC': (0.990811493442693, 0.9789196452566513, 0.9826390755173342), 'AP': (0.987808066314941, 0.9778498810673484, 0.9835839037925009), 'Accuracy': (0.9227941176470589, 0.9081967213114754, 0.9147540983606557), 'Precision': (0.9831932773109243, 0.973384030418251, 0.9633699633699634), 'Recall': (0.8602941176470589, 0.839344262295082, 0.8622950819672132), 'F1': (0.9176470588235294, 0.9014084507042253, 0.9100346020761246)}\n"
     ]
    },
    {
     "data": {
      "image/png": "[encoded data removed]",
      "text/plain": [
       "<Figure size 640x480 with 1 Axes>"
      ]
     },
     "metadata": {},
     "output_type": "display_data"
    }
   ],
   "source": [
    "def main():\n",
    "    # Create an argparse.Namespace object to store the arguments\n",
    "    args = argparse.Namespace()\n",
    "\n",
    "    # Manually set the values for the arguments\n",
    "    args.use_sage = 'GCN'\n",
    "    args.dataset = 'data2'\n",
    "    args.de_v = 'v1'\n",
    "    args.use_valedges_as_input = False\n",
    "    args.num_layers = 4\n",
    "    args.decode_layers = 2\n",
    "    args.hidden_channels = 128\n",
    "    args.decode_channels = 512\n",
    "    args.dropout = 0.5\n",
    "    args.batch_size = 64\n",
    "    args.lr = 0.01\n",
    "    args.epochs = 200\n",
    "    args.mask_ratio = 0.2\n",
    "    args.eval_steps = 1\n",
    "    args.runs = 5\n",
    "    args.patience = 50\n",
    "    args.seed = 42\n",
    "\n",
    "    print(args) # Adding the print statement\n",
    "    np.random.seed(args.seed)\n",
    "    torch.manual_seed(args.seed)\n",
    "\n",
    "    # ... rest of the code ...\n",
    "\n",
    "    # device = 'cuda:0'\n",
    "    # device = torch.device(device)\n",
    "    # lncRNADisease MNDR\n",
    "    disease_feature = pd.read_excel(\n",
    "        \"lncRNA\\dataset\\data2\\MNDR-disease semantic similarity matrix.xls\".format(args.dataset),\n",
    "        header=0, index_col=0).values.astype(np.float32)\n",
    "    lncRNA_feature = pd.read_excel(\n",
    "        \"lncRNA\\dataset\\data2\\MNDR-lncRNA functional similarity matrix.xls\".format(args.dataset),\n",
    "        header=0, index_col=0).values.astype(np.float32)\n",
    "    adj = pd.read_excel(\n",
    "        \"lncRNA\\dataset\\data2\\MNDR-lncRNA-disease associations matrix.xls\".format(args.dataset),\n",
    "        header=0, index_col=0).values\n",
    "\n",
    "    lncRNA_feature_padded = np.pad(lncRNA_feature, ((0, 0), (0, 256 - len(lncRNA_feature))), 'constant',\n",
    "                                   constant_values=(0,))\n",
    "    disease_feature_padded = np.pad(disease_feature, ((0, 0), (0, 256 - len(disease_feature))), 'constant',\n",
    "                                    constant_values=(0,))\n",
    "    features = np.concatenate((lncRNA_feature_padded, disease_feature_padded), axis=0)\n",
    "    features_tensor = torch.tensor(features, dtype=torch.float32)\n",
    "\n",
    "    edge_index = np.nonzero(adj)\n",
    "    edge_index_tensor = torch.LongTensor(edge_index)\n",
    "    edge_index_tensor[1] = edge_index_tensor[1] + len(lncRNA_feature)\n",
    "\n",
    "    data = Data(x=features_tensor, edge_index=edge_index_tensor)\n",
    "\n",
    "    split_edge = do_edge_split_direct(data)\n",
    "\n",
    "    data.edge_index = to_undirected(split_edge['train']['edge'].t())\n",
    "    if args.use_sage == 'GCN':\n",
    "        edge_index, _ = add_self_loops(data.edge_index)\n",
    "        adj = SparseTensor.from_edge_index(edge_index).t()\n",
    "    else:\n",
    "        edge_index = data.edge_index\n",
    "        adj = SparseTensor.from_edge_index(edge_index).t()\n",
    "\n",
    "    data = data.to(device)\n",
    "    adj = adj.to(device)\n",
    "\n",
    "    print('Start training with mask ratio={} # optimization edges={} / {}'.format(args.mask_ratio,\n",
    "                                                                                  int(args.mask_ratio *\n",
    "                                                                                      split_edge['train']['edge'].shape[\n",
    "                                                                                          0]),\n",
    "                                                                                  split_edge['train']['edge'].shape[0]))\n",
    "\n",
    "    metric = 'AUC'\n",
    "    if args.use_sage == 'SAGE':\n",
    "        model = SAGE(data.num_features, args.hidden_channels,\n",
    "                     args.hidden_channels, args.num_layers,\n",
    "                     args.dropout).to(device)\n",
    "    elif args.use_sage == 'GIN':\n",
    "        model = GIN(data.num_features, args.hidden_channels,\n",
    "                    args.hidden_channels, args.num_layers,\n",
    "                    args.dropout).to(device)\n",
    "    elif args.use_sage == 'GCN':\n",
    "        model = GCN(data.num_features, args.hidden_channels,\n",
    "                    args.hidden_channels, args.num_layers,\n",
    "                    args.dropout).to(device)\n",
    "\n",
    "    predictor = LPDecoder(args.hidden_channels, args.decode_channels, 1, args.num_layers,\n",
    "                          args.decode_layers, args.dropout, de_v=args.de_v).to(device)\n",
    "\n",
    "    for run in range(args.runs):\n",
    "        model.reset_parameters()\n",
    "        predictor.reset_parameters()\n",
    "        optimizer = torch.optim.Adam(\n",
    "            list(model.parameters()) + list(predictor.parameters()),\n",
    "            lr=args.lr)\n",
    "\n",
    "        best_valid = 0.0\n",
    "        best_epoch = 0\n",
    "        cnt_wait = 0\n",
    "        for epoch in range(1, 1 + args.epochs):\n",
    "            t1 = time.time()\n",
    "            loss = train(model, predictor, data, split_edge, optimizer, args)\n",
    "            t2 = time.time()\n",
    "\n",
    "            results = test(model, predictor, data, adj, split_edge, args.batch_size)\n",
    "            # print(results)\n",
    "            valid_hits = results[metric][1]\n",
    "            if valid_hits > best_valid:\n",
    "                best_valid = valid_hits\n",
    "                best_epoch = epoch\n",
    "                cnt_wait = 0\n",
    "            else:\n",
    "                cnt_wait += 1\n",
    "\n",
    "            # for key, result in results.items():\n",
    "            #     train_hits, valid_hits, test_hits = result\n",
    "            #     print(key)\n",
    "            #     print(f'Run: {run + 1:02d} / {args.runs:02d}, '\n",
    "            #           f'Epoch: {epoch:02d} / {args.epochs + 1:02d}, '\n",
    "            #           f'Best_epoch: {best_epoch:02d}, '\n",
    "            #           f'Best_valid: {100 * best_valid:.2f}%, '\n",
    "            #           f'Loss: {loss:.4f}, '\n",
    "            #           f'Train: {100 * train_hits:.2f}%, '\n",
    "            #           f'Valid: {100 * valid_hits:.2f}%, '\n",
    "            #           f'Test: {100 * test_hits:.2f}%',\n",
    "            #           f'Time: {t2 - t1:.2f}%')\n",
    "            # print('***************')\n",
    "            if cnt_wait == args.patience:\n",
    "            #     print('Early stopping!')\n",
    "                break\n",
    "        # print('##### Testing on {}/{}'.format(run, args.runs))\n",
    "\n",
    "        results = test(model, predictor, data, adj, split_edge, args.batch_size, draw=True)\n",
    "        print(results)\n",
    "\n",
    "\n",
    "if __name__ == \"__main__\":\n",
    "    main()\n",
    "    plt.show()"
   ]
  }
 ],
 "metadata": {
  "accelerator": "GPU",
  "colab": {
   "authorship_tag": "ABX9TyO/+22VHPxUjTwU03UdM3Ha",
   "gpuType": "T4",
   "include_colab_link": true,
   "provenance": []
  },
  "kernelspec": {
   "display_name": "last",
   "language": "python",
   "name": "python3"
  },
  "language_info": {
   "codemirror_mode": {
    "name": "ipython",
    "version": 3
   },
   "file_extension": ".py",
   "mimetype": "text/x-python",
   "name": "python",
   "nbconvert_exporter": "python",
   "pygments_lexer": "ipython3",
   "version": "3.7.0"
  }
 },
 "nbformat": 4,
 "nbformat_minor": 0
}
